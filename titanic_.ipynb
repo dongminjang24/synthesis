{
 "cells": [
  {
   "cell_type": "code",
   "execution_count": 92,
   "metadata": {},
   "outputs": [],
   "source": [
    "import pandas as pd\n",
    "\n"
   ]
  },
  {
   "cell_type": "code",
   "execution_count": 93,
   "metadata": {},
   "outputs": [],
   "source": [
    "titanic_df=pd.read_csv('./data_sets/titanic_train.csv')"
   ]
  },
  {
   "cell_type": "code",
   "execution_count": 94,
   "metadata": {},
   "outputs": [
    {
     "data": {
      "text/html": [
       "<div>\n",
       "<style scoped>\n",
       "    .dataframe tbody tr th:only-of-type {\n",
       "        vertical-align: middle;\n",
       "    }\n",
       "\n",
       "    .dataframe tbody tr th {\n",
       "        vertical-align: top;\n",
       "    }\n",
       "\n",
       "    .dataframe thead th {\n",
       "        text-align: right;\n",
       "    }\n",
       "</style>\n",
       "<table border=\"1\" class=\"dataframe\">\n",
       "  <thead>\n",
       "    <tr style=\"text-align: right;\">\n",
       "      <th></th>\n",
       "      <th>PassengerId</th>\n",
       "      <th>Survived</th>\n",
       "      <th>Pclass</th>\n",
       "      <th>Name</th>\n",
       "      <th>Sex</th>\n",
       "      <th>Age</th>\n",
       "      <th>SibSp</th>\n",
       "      <th>Parch</th>\n",
       "      <th>Ticket</th>\n",
       "      <th>Fare</th>\n",
       "      <th>Cabin</th>\n",
       "      <th>Embarked</th>\n",
       "    </tr>\n",
       "  </thead>\n",
       "  <tbody>\n",
       "    <tr>\n",
       "      <th>0</th>\n",
       "      <td>1</td>\n",
       "      <td>0</td>\n",
       "      <td>3</td>\n",
       "      <td>Braund, Mr. Owen Harris</td>\n",
       "      <td>male</td>\n",
       "      <td>22.0</td>\n",
       "      <td>1</td>\n",
       "      <td>0</td>\n",
       "      <td>A/5 21171</td>\n",
       "      <td>7.2500</td>\n",
       "      <td>NaN</td>\n",
       "      <td>S</td>\n",
       "    </tr>\n",
       "    <tr>\n",
       "      <th>1</th>\n",
       "      <td>2</td>\n",
       "      <td>1</td>\n",
       "      <td>1</td>\n",
       "      <td>Cumings, Mrs. John Bradley (Florence Briggs Th...</td>\n",
       "      <td>female</td>\n",
       "      <td>38.0</td>\n",
       "      <td>1</td>\n",
       "      <td>0</td>\n",
       "      <td>PC 17599</td>\n",
       "      <td>71.2833</td>\n",
       "      <td>C85</td>\n",
       "      <td>C</td>\n",
       "    </tr>\n",
       "    <tr>\n",
       "      <th>2</th>\n",
       "      <td>3</td>\n",
       "      <td>1</td>\n",
       "      <td>3</td>\n",
       "      <td>Heikkinen, Miss. Laina</td>\n",
       "      <td>female</td>\n",
       "      <td>26.0</td>\n",
       "      <td>0</td>\n",
       "      <td>0</td>\n",
       "      <td>STON/O2. 3101282</td>\n",
       "      <td>7.9250</td>\n",
       "      <td>NaN</td>\n",
       "      <td>S</td>\n",
       "    </tr>\n",
       "  </tbody>\n",
       "</table>\n",
       "</div>"
      ],
      "text/plain": [
       "   PassengerId  Survived  Pclass  \\\n",
       "0            1         0       3   \n",
       "1            2         1       1   \n",
       "2            3         1       3   \n",
       "\n",
       "                                                Name     Sex   Age  SibSp  \\\n",
       "0                            Braund, Mr. Owen Harris    male  22.0      1   \n",
       "1  Cumings, Mrs. John Bradley (Florence Briggs Th...  female  38.0      1   \n",
       "2                             Heikkinen, Miss. Laina  female  26.0      0   \n",
       "\n",
       "   Parch            Ticket     Fare Cabin Embarked  \n",
       "0      0         A/5 21171   7.2500   NaN        S  \n",
       "1      0          PC 17599  71.2833   C85        C  \n",
       "2      0  STON/O2. 3101282   7.9250   NaN        S  "
      ]
     },
     "execution_count": 94,
     "metadata": {},
     "output_type": "execute_result"
    }
   ],
   "source": [
    "titanic_df.head(3)"
   ]
  },
  {
   "cell_type": "code",
   "execution_count": 95,
   "metadata": {},
   "outputs": [
    {
     "name": "stdout",
     "output_type": "stream",
     "text": [
      "\n",
      " ### train 데이터 정보 ### \n",
      "\n",
      "<class 'pandas.core.frame.DataFrame'>\n",
      "RangeIndex: 891 entries, 0 to 890\n",
      "Data columns (total 12 columns):\n",
      " #   Column       Non-Null Count  Dtype  \n",
      "---  ------       --------------  -----  \n",
      " 0   PassengerId  891 non-null    int64  \n",
      " 1   Survived     891 non-null    int64  \n",
      " 2   Pclass       891 non-null    int64  \n",
      " 3   Name         891 non-null    object \n",
      " 4   Sex          891 non-null    object \n",
      " 5   Age          714 non-null    float64\n",
      " 6   SibSp        891 non-null    int64  \n",
      " 7   Parch        891 non-null    int64  \n",
      " 8   Ticket       891 non-null    object \n",
      " 9   Fare         891 non-null    float64\n",
      " 10  Cabin        204 non-null    object \n",
      " 11  Embarked     889 non-null    object \n",
      "dtypes: float64(2), int64(5), object(5)\n",
      "memory usage: 83.7+ KB\n",
      "None\n"
     ]
    }
   ],
   "source": [
    "print('\\n ### train 데이터 정보 ### \\n')\n",
    "print(titanic_df.info())"
   ]
  },
  {
   "cell_type": "code",
   "execution_count": 96,
   "metadata": {},
   "outputs": [
    {
     "data": {
      "text/html": [
       "<div>\n",
       "<style scoped>\n",
       "    .dataframe tbody tr th:only-of-type {\n",
       "        vertical-align: middle;\n",
       "    }\n",
       "\n",
       "    .dataframe tbody tr th {\n",
       "        vertical-align: top;\n",
       "    }\n",
       "\n",
       "    .dataframe thead th {\n",
       "        text-align: right;\n",
       "    }\n",
       "</style>\n",
       "<table border=\"1\" class=\"dataframe\">\n",
       "  <thead>\n",
       "    <tr style=\"text-align: right;\">\n",
       "      <th></th>\n",
       "      <th>PassengerId</th>\n",
       "      <th>Survived</th>\n",
       "      <th>Pclass</th>\n",
       "      <th>Age</th>\n",
       "      <th>SibSp</th>\n",
       "      <th>Parch</th>\n",
       "      <th>Fare</th>\n",
       "    </tr>\n",
       "  </thead>\n",
       "  <tbody>\n",
       "    <tr>\n",
       "      <th>count</th>\n",
       "      <td>891.000000</td>\n",
       "      <td>891.000000</td>\n",
       "      <td>891.000000</td>\n",
       "      <td>714.000000</td>\n",
       "      <td>891.000000</td>\n",
       "      <td>891.000000</td>\n",
       "      <td>891.000000</td>\n",
       "    </tr>\n",
       "    <tr>\n",
       "      <th>mean</th>\n",
       "      <td>446.000000</td>\n",
       "      <td>0.383838</td>\n",
       "      <td>2.308642</td>\n",
       "      <td>29.699118</td>\n",
       "      <td>0.523008</td>\n",
       "      <td>0.381594</td>\n",
       "      <td>32.204208</td>\n",
       "    </tr>\n",
       "    <tr>\n",
       "      <th>std</th>\n",
       "      <td>257.353842</td>\n",
       "      <td>0.486592</td>\n",
       "      <td>0.836071</td>\n",
       "      <td>14.526497</td>\n",
       "      <td>1.102743</td>\n",
       "      <td>0.806057</td>\n",
       "      <td>49.693429</td>\n",
       "    </tr>\n",
       "    <tr>\n",
       "      <th>min</th>\n",
       "      <td>1.000000</td>\n",
       "      <td>0.000000</td>\n",
       "      <td>1.000000</td>\n",
       "      <td>0.420000</td>\n",
       "      <td>0.000000</td>\n",
       "      <td>0.000000</td>\n",
       "      <td>0.000000</td>\n",
       "    </tr>\n",
       "    <tr>\n",
       "      <th>25%</th>\n",
       "      <td>223.500000</td>\n",
       "      <td>0.000000</td>\n",
       "      <td>2.000000</td>\n",
       "      <td>20.125000</td>\n",
       "      <td>0.000000</td>\n",
       "      <td>0.000000</td>\n",
       "      <td>7.910400</td>\n",
       "    </tr>\n",
       "    <tr>\n",
       "      <th>50%</th>\n",
       "      <td>446.000000</td>\n",
       "      <td>0.000000</td>\n",
       "      <td>3.000000</td>\n",
       "      <td>28.000000</td>\n",
       "      <td>0.000000</td>\n",
       "      <td>0.000000</td>\n",
       "      <td>14.454200</td>\n",
       "    </tr>\n",
       "    <tr>\n",
       "      <th>75%</th>\n",
       "      <td>668.500000</td>\n",
       "      <td>1.000000</td>\n",
       "      <td>3.000000</td>\n",
       "      <td>38.000000</td>\n",
       "      <td>1.000000</td>\n",
       "      <td>0.000000</td>\n",
       "      <td>31.000000</td>\n",
       "    </tr>\n",
       "    <tr>\n",
       "      <th>max</th>\n",
       "      <td>891.000000</td>\n",
       "      <td>1.000000</td>\n",
       "      <td>3.000000</td>\n",
       "      <td>80.000000</td>\n",
       "      <td>8.000000</td>\n",
       "      <td>6.000000</td>\n",
       "      <td>512.329200</td>\n",
       "    </tr>\n",
       "  </tbody>\n",
       "</table>\n",
       "</div>"
      ],
      "text/plain": [
       "       PassengerId    Survived      Pclass         Age       SibSp  \\\n",
       "count   891.000000  891.000000  891.000000  714.000000  891.000000   \n",
       "mean    446.000000    0.383838    2.308642   29.699118    0.523008   \n",
       "std     257.353842    0.486592    0.836071   14.526497    1.102743   \n",
       "min       1.000000    0.000000    1.000000    0.420000    0.000000   \n",
       "25%     223.500000    0.000000    2.000000   20.125000    0.000000   \n",
       "50%     446.000000    0.000000    3.000000   28.000000    0.000000   \n",
       "75%     668.500000    1.000000    3.000000   38.000000    1.000000   \n",
       "max     891.000000    1.000000    3.000000   80.000000    8.000000   \n",
       "\n",
       "            Parch        Fare  \n",
       "count  891.000000  891.000000  \n",
       "mean     0.381594   32.204208  \n",
       "std      0.806057   49.693429  \n",
       "min      0.000000    0.000000  \n",
       "25%      0.000000    7.910400  \n",
       "50%      0.000000   14.454200  \n",
       "75%      0.000000   31.000000  \n",
       "max      6.000000  512.329200  "
      ]
     },
     "execution_count": 96,
     "metadata": {},
     "output_type": "execute_result"
    }
   ],
   "source": [
    "titanic_df.describe()"
   ]
  },
  {
   "cell_type": "code",
   "execution_count": 97,
   "metadata": {},
   "outputs": [
    {
     "name": "stdout",
     "output_type": "stream",
     "text": [
      "데이터 세트 Null 값 갯수 0\n"
     ]
    }
   ],
   "source": [
    "titanic_df['Age'].fillna(titanic_df['Age'].mean(),inplace=True)\n",
    "titanic_df['Cabin'].fillna('N',inplace=True)\n",
    "titanic_df['Embarked'].fillna('N',inplace=True)\n",
    "print('데이터 세트 Null 값 갯수',titanic_df.isnull().sum().sum())"
   ]
  },
  {
   "cell_type": "code",
   "execution_count": 98,
   "metadata": {},
   "outputs": [
    {
     "name": "stdout",
     "output_type": "stream",
     "text": [
      "데이터 세트 Null 값 갯수 PassengerId    0\n",
      "Survived       0\n",
      "Pclass         0\n",
      "Name           0\n",
      "Sex            0\n",
      "Age            0\n",
      "SibSp          0\n",
      "Parch          0\n",
      "Ticket         0\n",
      "Fare           0\n",
      "Cabin          0\n",
      "Embarked       0\n",
      "dtype: int64\n"
     ]
    }
   ],
   "source": [
    "print('데이터 세트 Null 값 갯수',titanic_df.isnull().sum())"
   ]
  },
  {
   "cell_type": "code",
   "execution_count": 99,
   "metadata": {},
   "outputs": [
    {
     "data": {
      "text/html": [
       "<div>\n",
       "<style scoped>\n",
       "    .dataframe tbody tr th:only-of-type {\n",
       "        vertical-align: middle;\n",
       "    }\n",
       "\n",
       "    .dataframe tbody tr th {\n",
       "        vertical-align: top;\n",
       "    }\n",
       "\n",
       "    .dataframe thead th {\n",
       "        text-align: right;\n",
       "    }\n",
       "</style>\n",
       "<table border=\"1\" class=\"dataframe\">\n",
       "  <thead>\n",
       "    <tr style=\"text-align: right;\">\n",
       "      <th></th>\n",
       "      <th>PassengerId</th>\n",
       "      <th>Survived</th>\n",
       "      <th>Pclass</th>\n",
       "      <th>Name</th>\n",
       "      <th>Sex</th>\n",
       "      <th>Age</th>\n",
       "      <th>SibSp</th>\n",
       "      <th>Parch</th>\n",
       "      <th>Ticket</th>\n",
       "      <th>Fare</th>\n",
       "      <th>Cabin</th>\n",
       "      <th>Embarked</th>\n",
       "    </tr>\n",
       "  </thead>\n",
       "  <tbody>\n",
       "    <tr>\n",
       "      <th>0</th>\n",
       "      <td>1</td>\n",
       "      <td>0</td>\n",
       "      <td>3</td>\n",
       "      <td>Braund, Mr. Owen Harris</td>\n",
       "      <td>male</td>\n",
       "      <td>22.000000</td>\n",
       "      <td>1</td>\n",
       "      <td>0</td>\n",
       "      <td>A/5 21171</td>\n",
       "      <td>7.2500</td>\n",
       "      <td>N</td>\n",
       "      <td>S</td>\n",
       "    </tr>\n",
       "    <tr>\n",
       "      <th>1</th>\n",
       "      <td>2</td>\n",
       "      <td>1</td>\n",
       "      <td>1</td>\n",
       "      <td>Cumings, Mrs. John Bradley (Florence Briggs Th...</td>\n",
       "      <td>female</td>\n",
       "      <td>38.000000</td>\n",
       "      <td>1</td>\n",
       "      <td>0</td>\n",
       "      <td>PC 17599</td>\n",
       "      <td>71.2833</td>\n",
       "      <td>C85</td>\n",
       "      <td>C</td>\n",
       "    </tr>\n",
       "    <tr>\n",
       "      <th>2</th>\n",
       "      <td>3</td>\n",
       "      <td>1</td>\n",
       "      <td>3</td>\n",
       "      <td>Heikkinen, Miss. Laina</td>\n",
       "      <td>female</td>\n",
       "      <td>26.000000</td>\n",
       "      <td>0</td>\n",
       "      <td>0</td>\n",
       "      <td>STON/O2. 3101282</td>\n",
       "      <td>7.9250</td>\n",
       "      <td>N</td>\n",
       "      <td>S</td>\n",
       "    </tr>\n",
       "    <tr>\n",
       "      <th>3</th>\n",
       "      <td>4</td>\n",
       "      <td>1</td>\n",
       "      <td>1</td>\n",
       "      <td>Futrelle, Mrs. Jacques Heath (Lily May Peel)</td>\n",
       "      <td>female</td>\n",
       "      <td>35.000000</td>\n",
       "      <td>1</td>\n",
       "      <td>0</td>\n",
       "      <td>113803</td>\n",
       "      <td>53.1000</td>\n",
       "      <td>C123</td>\n",
       "      <td>S</td>\n",
       "    </tr>\n",
       "    <tr>\n",
       "      <th>4</th>\n",
       "      <td>5</td>\n",
       "      <td>0</td>\n",
       "      <td>3</td>\n",
       "      <td>Allen, Mr. William Henry</td>\n",
       "      <td>male</td>\n",
       "      <td>35.000000</td>\n",
       "      <td>0</td>\n",
       "      <td>0</td>\n",
       "      <td>373450</td>\n",
       "      <td>8.0500</td>\n",
       "      <td>N</td>\n",
       "      <td>S</td>\n",
       "    </tr>\n",
       "    <tr>\n",
       "      <th>...</th>\n",
       "      <td>...</td>\n",
       "      <td>...</td>\n",
       "      <td>...</td>\n",
       "      <td>...</td>\n",
       "      <td>...</td>\n",
       "      <td>...</td>\n",
       "      <td>...</td>\n",
       "      <td>...</td>\n",
       "      <td>...</td>\n",
       "      <td>...</td>\n",
       "      <td>...</td>\n",
       "      <td>...</td>\n",
       "    </tr>\n",
       "    <tr>\n",
       "      <th>886</th>\n",
       "      <td>887</td>\n",
       "      <td>0</td>\n",
       "      <td>2</td>\n",
       "      <td>Montvila, Rev. Juozas</td>\n",
       "      <td>male</td>\n",
       "      <td>27.000000</td>\n",
       "      <td>0</td>\n",
       "      <td>0</td>\n",
       "      <td>211536</td>\n",
       "      <td>13.0000</td>\n",
       "      <td>N</td>\n",
       "      <td>S</td>\n",
       "    </tr>\n",
       "    <tr>\n",
       "      <th>887</th>\n",
       "      <td>888</td>\n",
       "      <td>1</td>\n",
       "      <td>1</td>\n",
       "      <td>Graham, Miss. Margaret Edith</td>\n",
       "      <td>female</td>\n",
       "      <td>19.000000</td>\n",
       "      <td>0</td>\n",
       "      <td>0</td>\n",
       "      <td>112053</td>\n",
       "      <td>30.0000</td>\n",
       "      <td>B42</td>\n",
       "      <td>S</td>\n",
       "    </tr>\n",
       "    <tr>\n",
       "      <th>888</th>\n",
       "      <td>889</td>\n",
       "      <td>0</td>\n",
       "      <td>3</td>\n",
       "      <td>Johnston, Miss. Catherine Helen \"Carrie\"</td>\n",
       "      <td>female</td>\n",
       "      <td>29.699118</td>\n",
       "      <td>1</td>\n",
       "      <td>2</td>\n",
       "      <td>W./C. 6607</td>\n",
       "      <td>23.4500</td>\n",
       "      <td>N</td>\n",
       "      <td>S</td>\n",
       "    </tr>\n",
       "    <tr>\n",
       "      <th>889</th>\n",
       "      <td>890</td>\n",
       "      <td>1</td>\n",
       "      <td>1</td>\n",
       "      <td>Behr, Mr. Karl Howell</td>\n",
       "      <td>male</td>\n",
       "      <td>26.000000</td>\n",
       "      <td>0</td>\n",
       "      <td>0</td>\n",
       "      <td>111369</td>\n",
       "      <td>30.0000</td>\n",
       "      <td>C148</td>\n",
       "      <td>C</td>\n",
       "    </tr>\n",
       "    <tr>\n",
       "      <th>890</th>\n",
       "      <td>891</td>\n",
       "      <td>0</td>\n",
       "      <td>3</td>\n",
       "      <td>Dooley, Mr. Patrick</td>\n",
       "      <td>male</td>\n",
       "      <td>32.000000</td>\n",
       "      <td>0</td>\n",
       "      <td>0</td>\n",
       "      <td>370376</td>\n",
       "      <td>7.7500</td>\n",
       "      <td>N</td>\n",
       "      <td>Q</td>\n",
       "    </tr>\n",
       "  </tbody>\n",
       "</table>\n",
       "<p>891 rows × 12 columns</p>\n",
       "</div>"
      ],
      "text/plain": [
       "     PassengerId  Survived  Pclass  \\\n",
       "0              1         0       3   \n",
       "1              2         1       1   \n",
       "2              3         1       3   \n",
       "3              4         1       1   \n",
       "4              5         0       3   \n",
       "..           ...       ...     ...   \n",
       "886          887         0       2   \n",
       "887          888         1       1   \n",
       "888          889         0       3   \n",
       "889          890         1       1   \n",
       "890          891         0       3   \n",
       "\n",
       "                                                  Name     Sex        Age  \\\n",
       "0                              Braund, Mr. Owen Harris    male  22.000000   \n",
       "1    Cumings, Mrs. John Bradley (Florence Briggs Th...  female  38.000000   \n",
       "2                               Heikkinen, Miss. Laina  female  26.000000   \n",
       "3         Futrelle, Mrs. Jacques Heath (Lily May Peel)  female  35.000000   \n",
       "4                             Allen, Mr. William Henry    male  35.000000   \n",
       "..                                                 ...     ...        ...   \n",
       "886                              Montvila, Rev. Juozas    male  27.000000   \n",
       "887                       Graham, Miss. Margaret Edith  female  19.000000   \n",
       "888           Johnston, Miss. Catherine Helen \"Carrie\"  female  29.699118   \n",
       "889                              Behr, Mr. Karl Howell    male  26.000000   \n",
       "890                                Dooley, Mr. Patrick    male  32.000000   \n",
       "\n",
       "     SibSp  Parch            Ticket     Fare Cabin Embarked  \n",
       "0        1      0         A/5 21171   7.2500     N        S  \n",
       "1        1      0          PC 17599  71.2833   C85        C  \n",
       "2        0      0  STON/O2. 3101282   7.9250     N        S  \n",
       "3        1      0            113803  53.1000  C123        S  \n",
       "4        0      0            373450   8.0500     N        S  \n",
       "..     ...    ...               ...      ...   ...      ...  \n",
       "886      0      0            211536  13.0000     N        S  \n",
       "887      0      0            112053  30.0000   B42        S  \n",
       "888      1      2        W./C. 6607  23.4500     N        S  \n",
       "889      0      0            111369  30.0000  C148        C  \n",
       "890      0      0            370376   7.7500     N        Q  \n",
       "\n",
       "[891 rows x 12 columns]"
      ]
     },
     "execution_count": 99,
     "metadata": {},
     "output_type": "execute_result"
    }
   ],
   "source": [
    "titanic_df#대체된 Null값"
   ]
  },
  {
   "cell_type": "code",
   "execution_count": 100,
   "metadata": {},
   "outputs": [
    {
     "name": "stdout",
     "output_type": "stream",
     "text": [
      "Sex 값 분포\n",
      " male      577\n",
      "female    314\n",
      "Name: Sex, dtype: int64\n",
      "\n",
      " Cabin 값 분포 \n",
      " N              687\n",
      "C23 C25 C27      4\n",
      "G6               4\n",
      "B96 B98          4\n",
      "C22 C26          3\n",
      "              ... \n",
      "E34              1\n",
      "C7               1\n",
      "C54              1\n",
      "E36              1\n",
      "C148             1\n",
      "Name: Cabin, Length: 148, dtype: int64\n",
      "\n",
      " Embarked 값 분포 \n",
      " S    644\n",
      "C    168\n",
      "Q     77\n",
      "N      2\n",
      "Name: Embarked, dtype: int64\n"
     ]
    }
   ],
   "source": [
    "print('Sex 값 분포\\n',titanic_df['Sex'].value_counts())\n",
    "print('\\n Cabin 값 분포 \\n',titanic_df['Cabin'].value_counts())\n",
    "print('\\n Embarked 값 분포 \\n',titanic_df['Embarked'].value_counts())"
   ]
  },
  {
   "cell_type": "code",
   "execution_count": 101,
   "metadata": {},
   "outputs": [
    {
     "name": "stdout",
     "output_type": "stream",
     "text": [
      "0      N\n",
      "1      C\n",
      "2      N\n",
      "3      C\n",
      "4      N\n",
      "      ..\n",
      "886    N\n",
      "887    B\n",
      "888    N\n",
      "889    C\n",
      "890    N\n",
      "Name: Cabin, Length: 891, dtype: object\n"
     ]
    }
   ],
   "source": [
    "titanic_df['Cabin'] = titanic_df['Cabin'].str[:1]\n",
    "print(titanic_df['Cabin'])"
   ]
  },
  {
   "cell_type": "code",
   "execution_count": 102,
   "metadata": {},
   "outputs": [
    {
     "data": {
      "text/plain": [
       "N    687\n",
       "C     59\n",
       "B     47\n",
       "D     33\n",
       "E     32\n",
       "A     15\n",
       "F     13\n",
       "G      4\n",
       "T      1\n",
       "Name: Cabin, dtype: int64"
      ]
     },
     "execution_count": 102,
     "metadata": {},
     "output_type": "execute_result"
    }
   ],
   "source": [
    "titanic_df['Cabin'].value_counts()"
   ]
  },
  {
   "cell_type": "code",
   "execution_count": 103,
   "metadata": {},
   "outputs": [
    {
     "data": {
      "text/plain": [
       "Sex     Survived\n",
       "female  0            81\n",
       "        1           233\n",
       "male    0           468\n",
       "        1           109\n",
       "Name: Age, dtype: int64"
      ]
     },
     "execution_count": 103,
     "metadata": {},
     "output_type": "execute_result"
    }
   ],
   "source": [
    "titanic_df.groupby(['Sex','Survived'])['Age'].count()"
   ]
  },
  {
   "cell_type": "code",
   "execution_count": 104,
   "metadata": {},
   "outputs": [
    {
     "data": {
      "text/plain": [
       "Sex     Survived\n",
       "female  0            81\n",
       "        1           233\n",
       "male    0           468\n",
       "        1           109\n",
       "Name: Survived, dtype: int64"
      ]
     },
     "execution_count": 104,
     "metadata": {},
     "output_type": "execute_result"
    }
   ],
   "source": [
    "titanic_df.groupby(['Sex','Survived'])['Survived'].count()"
   ]
  },
  {
   "cell_type": "code",
   "execution_count": 105,
   "metadata": {},
   "outputs": [],
   "source": [
    "import seaborn as sns \n",
    "import matplotlib.pyplot as plt"
   ]
  },
  {
   "cell_type": "code",
   "execution_count": 106,
   "metadata": {},
   "outputs": [
    {
     "data": {
      "image/png": "[encoded data removed]",
      "text/plain": [
       "<Figure size 432x288 with 1 Axes>"
      ]
     },
     "metadata": {
      "needs_background": "light"
     },
     "output_type": "display_data"
    }
   ],
   "source": [
    "sns.barplot(x='Sex',y='Survived',data=titanic_df)\n",
    "plt.show()"
   ]
  },
  {
   "cell_type": "code",
   "execution_count": 107,
   "metadata": {},
   "outputs": [
    {
     "data": {
      "image/png": "[encoded data removed]",
      "text/plain": [
       "<Figure size 432x288 with 1 Axes>"
      ]
     },
     "metadata": {
      "needs_background": "light"
     },
     "output_type": "display_data"
    }
   ],
   "source": [
    "sns.barplot(x='Pclass',y='Survived',hue='Sex',data=titanic_df)\n",
    "plt.show()"
   ]
  },
  {
   "cell_type": "code",
   "execution_count": 108,
   "metadata": {},
   "outputs": [
    {
     "data": {
      "text/html": [
       "<div>\n",
       "<style scoped>\n",
       "    .dataframe tbody tr th:only-of-type {\n",
       "        vertical-align: middle;\n",
       "    }\n",
       "\n",
       "    .dataframe tbody tr th {\n",
       "        vertical-align: top;\n",
       "    }\n",
       "\n",
       "    .dataframe thead th {\n",
       "        text-align: right;\n",
       "    }\n",
       "</style>\n",
       "<table border=\"1\" class=\"dataframe\">\n",
       "  <thead>\n",
       "    <tr style=\"text-align: right;\">\n",
       "      <th></th>\n",
       "      <th>PassengerId</th>\n",
       "      <th>Survived</th>\n",
       "      <th>Pclass</th>\n",
       "      <th>Name</th>\n",
       "      <th>Sex</th>\n",
       "      <th>Age</th>\n",
       "      <th>SibSp</th>\n",
       "      <th>Parch</th>\n",
       "      <th>Ticket</th>\n",
       "      <th>Fare</th>\n",
       "      <th>Cabin</th>\n",
       "      <th>Embarked</th>\n",
       "    </tr>\n",
       "  </thead>\n",
       "  <tbody>\n",
       "    <tr>\n",
       "      <th>0</th>\n",
       "      <td>1</td>\n",
       "      <td>0</td>\n",
       "      <td>3</td>\n",
       "      <td>Braund, Mr. Owen Harris</td>\n",
       "      <td>1</td>\n",
       "      <td>22.0</td>\n",
       "      <td>1</td>\n",
       "      <td>0</td>\n",
       "      <td>A/5 21171</td>\n",
       "      <td>7.2500</td>\n",
       "      <td>7</td>\n",
       "      <td>3</td>\n",
       "    </tr>\n",
       "    <tr>\n",
       "      <th>1</th>\n",
       "      <td>2</td>\n",
       "      <td>1</td>\n",
       "      <td>1</td>\n",
       "      <td>Cumings, Mrs. John Bradley (Florence Briggs Th...</td>\n",
       "      <td>0</td>\n",
       "      <td>38.0</td>\n",
       "      <td>1</td>\n",
       "      <td>0</td>\n",
       "      <td>PC 17599</td>\n",
       "      <td>71.2833</td>\n",
       "      <td>2</td>\n",
       "      <td>0</td>\n",
       "    </tr>\n",
       "    <tr>\n",
       "      <th>2</th>\n",
       "      <td>3</td>\n",
       "      <td>1</td>\n",
       "      <td>3</td>\n",
       "      <td>Heikkinen, Miss. Laina</td>\n",
       "      <td>0</td>\n",
       "      <td>26.0</td>\n",
       "      <td>0</td>\n",
       "      <td>0</td>\n",
       "      <td>STON/O2. 3101282</td>\n",
       "      <td>7.9250</td>\n",
       "      <td>7</td>\n",
       "      <td>3</td>\n",
       "    </tr>\n",
       "    <tr>\n",
       "      <th>3</th>\n",
       "      <td>4</td>\n",
       "      <td>1</td>\n",
       "      <td>1</td>\n",
       "      <td>Futrelle, Mrs. Jacques Heath (Lily May Peel)</td>\n",
       "      <td>0</td>\n",
       "      <td>35.0</td>\n",
       "      <td>1</td>\n",
       "      <td>0</td>\n",
       "      <td>113803</td>\n",
       "      <td>53.1000</td>\n",
       "      <td>2</td>\n",
       "      <td>3</td>\n",
       "    </tr>\n",
       "    <tr>\n",
       "      <th>4</th>\n",
       "      <td>5</td>\n",
       "      <td>0</td>\n",
       "      <td>3</td>\n",
       "      <td>Allen, Mr. William Henry</td>\n",
       "      <td>1</td>\n",
       "      <td>35.0</td>\n",
       "      <td>0</td>\n",
       "      <td>0</td>\n",
       "      <td>373450</td>\n",
       "      <td>8.0500</td>\n",
       "      <td>7</td>\n",
       "      <td>3</td>\n",
       "    </tr>\n",
       "  </tbody>\n",
       "</table>\n",
       "</div>"
      ],
      "text/plain": [
       "   PassengerId  Survived  Pclass  \\\n",
       "0            1         0       3   \n",
       "1            2         1       1   \n",
       "2            3         1       3   \n",
       "3            4         1       1   \n",
       "4            5         0       3   \n",
       "\n",
       "                                                Name  Sex   Age  SibSp  Parch  \\\n",
       "0                            Braund, Mr. Owen Harris    1  22.0      1      0   \n",
       "1  Cumings, Mrs. John Bradley (Florence Briggs Th...    0  38.0      1      0   \n",
       "2                             Heikkinen, Miss. Laina    0  26.0      0      0   \n",
       "3       Futrelle, Mrs. Jacques Heath (Lily May Peel)    0  35.0      1      0   \n",
       "4                           Allen, Mr. William Henry    1  35.0      0      0   \n",
       "\n",
       "             Ticket     Fare  Cabin  Embarked  \n",
       "0         A/5 21171   7.2500      7         3  \n",
       "1          PC 17599  71.2833      2         0  \n",
       "2  STON/O2. 3101282   7.9250      7         3  \n",
       "3            113803  53.1000      2         3  \n",
       "4            373450   8.0500      7         3  "
      ]
     },
     "execution_count": 108,
     "metadata": {},
     "output_type": "execute_result"
    }
   ],
   "source": [
    "from sklearn import preprocessing\n",
    "\n",
    "def encode_features(dataDF):\n",
    "    features = ['Cabin','Sex','Embarked']\n",
    "    for feature in features:\n",
    "        le = preprocessing.LabelEncoder()\n",
    "        le= le.fit(dataDF[feature])\n",
    "        dataDF[feature]=le.transform(dataDF[feature])\n",
    "    return dataDF\n",
    "\n",
    "titanic_df=encode_features(titanic_df)\n",
    "titanic_df.head()"
   ]
  },
  {
   "cell_type": "code",
   "execution_count": 109,
   "metadata": {},
   "outputs": [
    {
     "data": {
      "image/png": "[encoded data removed]",
      "text/plain": [
       "<Figure size 720x432 with 1 Axes>"
      ]
     },
     "metadata": {
      "needs_background": "light"
     },
     "output_type": "display_data"
    }
   ],
   "source": [
    "def get_category(age):\n",
    "    cat=''\n",
    "    if age <=-1 : cat=\"Unknown\"\n",
    "    elif age <=5 : cat=\"Baby\"\n",
    "    elif age <=12 : cat=\"Child\"\n",
    "    elif age <=18 : cat=\"Teenager\"\n",
    "    elif age <=25 : cat=\"Student\"\n",
    "    elif age <=35 : cat=\"Young Adult\"\n",
    "    elif age <=60 : cat=\"Adult\"\n",
    "    else : cat = \"Elderly\"\n",
    "    \n",
    "    return cat\n",
    "\n",
    "plt.figure(figsize=(10,6))\n",
    "group_names=[\"Unknown\",\"Baby\",\"Child\",\"Teenager\",\"Student\",\"Young Adult\",\"Adult\",\"Elderly\"]\n",
    "\n",
    "titanic_df['Age_cat']=titanic_df['Age'].apply(lambda x : get_category(x))\n",
    "sns.barplot(x='Age_cat', y='Survived', hue='Sex', data=titanic_df, order=group_names)\n",
    "titanic_df.drop('Age_cat',axis=1,inplace=True)"
   ]
  },
  {
   "cell_type": "code",
   "execution_count": 110,
   "metadata": {},
   "outputs": [],
   "source": [
    "#원본 데이터를 재로딩하고, feature데이터 셋과 Label 데이터 셋 추출\n",
    "titanic_df=pd.read_csv('./data_sets/titanic_train.csv')\n",
    "from sklearn.model_selection import train_test_split"
   ]
  },
  {
   "cell_type": "code",
   "execution_count": 111,
   "metadata": {},
   "outputs": [],
   "source": [
    "from sklearn.preprocessing import LabelEncoder\n",
    "def fillna(df):\n",
    "    df['Age'].fillna(df['Age'].mean(),inplace=True)\n",
    "    df['Cabin'].fillna('N',inplace=True)\n",
    "    df['Embarked'].fillna('N',inplace=True)\n",
    "    \n",
    "    df['Fare'].fillna(0,inplace=True)\n",
    "    return df\n",
    "def drop_features(df):\n",
    "    df.drop(['PassengerId','Name','Ticket'],axis=1,inplace=True)\n",
    "    return df\n",
    "def format_features(df):\n",
    "    df['Cabin']=df['Cabin'].str[:1]\n",
    "    features=['Cabin','Sex','Embarked']\n",
    "    for feature in features:\n",
    "        le=LabelEncoder()\n",
    "        le=le.fit(df[feature])\n",
    "        df[feature]=le.transform(df[feature])\n",
    "    return df\n",
    "def transform_features(df):\n",
    "    df=fillna(df)\n",
    "    df=drop_features(df)\n",
    "    df=format_features(df)\n",
    "    return df"
   ]
  },
  {
   "cell_type": "code",
   "execution_count": 112,
   "metadata": {},
   "outputs": [],
   "source": [
    "y_titanic_df=titanic_df['Survived']\n",
    "X_titanic_df=titanic_df.drop('Survived',axis=1)\n",
    "\n",
    "X_titanic_df =transform_features(X_titanic_df)"
   ]
  },
  {
   "cell_type": "code",
   "execution_count": 113,
   "metadata": {},
   "outputs": [],
   "source": [
    "from sklearn.model_selection import train_test_split\n",
    "\n",
    "X_train,X_test, y_train, y_test=train_test_split(X_titanic_df,y_titanic_df,test_size=0.2,random_state=11)"
   ]
  },
  {
   "cell_type": "code",
   "execution_count": 114,
   "metadata": {},
   "outputs": [],
   "source": [
    "from sklearn.tree import DecisionTreeClassifier\n",
    "from sklearn.ensemble import RandomForestClassifier\n",
    "from sklearn.linear_model import LogisticRegression\n",
    "from sklearn.metrics import accuracy_score"
   ]
  },
  {
   "cell_type": "code",
   "execution_count": 115,
   "metadata": {},
   "outputs": [],
   "source": [
    "dt_clf=DecisionTreeClassifier(random_state=11)\n",
    "rf_clf=RandomForestClassifier(random_state=11)\n",
    "lr_clf=LogisticRegression()"
   ]
  },
  {
   "cell_type": "code",
   "execution_count": 116,
   "metadata": {},
   "outputs": [
    {
     "name": "stdout",
     "output_type": "stream",
     "text": [
      "DecisionTreeClassifier 정확도: 0.7877\n"
     ]
    }
   ],
   "source": [
    "#DecisionTreeClassifier \n",
    "dt_clf.fit(X_train,y_train)\n",
    "dt_pred=dt_clf.predict(X_test)\n",
    "print('DecisionTreeClassifier 정확도: {0:.4f}'.format(accuracy_score(y_test,dt_pred)))"
   ]
  },
  {
   "cell_type": "code",
   "execution_count": 117,
   "metadata": {},
   "outputs": [
    {
     "name": "stdout",
     "output_type": "stream",
     "text": [
      "RandomForestClassifier 정확도: 0.8547\n"
     ]
    }
   ],
   "source": [
    "#랜덤포레스트\n",
    "rf_clf.fit(X_train,y_train)\n",
    "rf_pred=rf_clf.predict(X_test)\n",
    "print('RandomForestClassifier 정확도: {0:.4f}'.format(accuracy_score(y_test,rf_pred)))"
   ]
  },
  {
   "cell_type": "code",
   "execution_count": 118,
   "metadata": {},
   "outputs": [
    {
     "name": "stdout",
     "output_type": "stream",
     "text": [
      "RandomForestClassifier 정확도: 0.8492\n"
     ]
    },
    {
     "name": "stderr",
     "output_type": "stream",
     "text": [
      "C:\\Users\\jangd\\AppData\\Local\\Programs\\Python\\Python310\\lib\\site-packages\\sklearn\\linear_model\\_logistic.py:814: ConvergenceWarning: lbfgs failed to converge (status=1):\n",
      "STOP: TOTAL NO. of ITERATIONS REACHED LIMIT.\n",
      "\n",
      "Increase the number of iterations (max_iter) or scale the data as shown in:\n",
      "    https://scikit-learn.org/stable/modules/preprocessing.html\n",
      "Please also refer to the documentation for alternative solver options:\n",
      "    https://scikit-learn.org/stable/modules/linear_model.html#logistic-regression\n",
      "  n_iter_i = _check_optimize_result(\n"
     ]
    }
   ],
   "source": [
    "#로지스틱\n",
    "lr_clf.fit(X_train,y_train)\n",
    "lr_pred=lr_clf.predict(X_test)\n",
    "print('RandomForestClassifier 정확도: {0:.4f}'.format(accuracy_score(y_test,lr_pred)))"
   ]
  },
  {
   "cell_type": "code",
   "execution_count": 119,
   "metadata": {},
   "outputs": [],
   "source": [
    "from sklearn.model_selection import KFold\n",
    "import numpy as np"
   ]
  },
  {
   "cell_type": "code",
   "execution_count": 120,
   "metadata": {},
   "outputs": [],
   "source": [
    "def exec_kfold(clf,folds=5):\n",
    "    kfold=KFold(n_splits=folds)\n",
    "    scores=[]\n",
    "    \n",
    "    for iter_count,(train_index,test_index) in enumerate(kfold.split(X_titanic_df)):\n",
    "        X_train,X_test = X_titanic_df.values[train_index], X_titanic_df.values[test_index]\n",
    "        y_train,y_test = y_titanic_df.values[train_index], y_titanic_df.values[test_index]\n",
    "        \n",
    "        clf.fit(X_train,y_train)\n",
    "        predictions=clf.predict(X_test)\n",
    "        accuracy= accuracy_score(y_test,predictions)\n",
    "        scores.append(accuracy)\n",
    "        print('교차 검증  {0} 정확도: {1:.4f}'.format(iter_count,accuracy))\n",
    "        \n",
    "    mean_score=np.mean(scores)\n",
    "    print('평균 정확도 :{0:.4f}'.format(mean_score))\n"
   ]
  },
  {
   "cell_type": "code",
   "execution_count": 121,
   "metadata": {},
   "outputs": [
    {
     "name": "stdout",
     "output_type": "stream",
     "text": [
      "교차 검증  0 정확도: 0.7542\n",
      "교차 검증  1 정확도: 0.7809\n",
      "교차 검증  2 정확도: 0.7865\n",
      "교차 검증  3 정확도: 0.7697\n",
      "교차 검증  4 정확도: 0.8202\n",
      "평균 정확도 :0.7823\n"
     ]
    }
   ],
   "source": [
    "\n",
    "exec_kfold(dt_clf,folds=5)"
   ]
  },
  {
   "cell_type": "code",
   "execution_count": 122,
   "metadata": {},
   "outputs": [
    {
     "name": "stdout",
     "output_type": "stream",
     "text": [
      "교차 검증0 정확도 : 0.7430\n",
      "교차 검증1 정확도 : 0.7753\n",
      "교차 검증2 정확도 : 0.7921\n",
      "교차 검증3 정확도 : 0.7865\n",
      "교차 검증4 정확도 : 0.8427\n",
      "평균 정확도: 0.7879\n"
     ]
    }
   ],
   "source": [
    "from sklearn.model_selection import cross_val_score\n",
    "\n",
    "scores=cross_val_score(dt_clf,X_titanic_df,y_titanic_df,cv=5)\n",
    "\n",
    "for iter_count, accuracy in enumerate(scores):\n",
    "    print('교차 검증{0} 정확도 : {1:.4f}'.format(iter_count,accuracy))\n",
    "    \n",
    "print('평균 정확도: {0:.4f}'.format(np.mean(scores)))"
   ]
  },
  {
   "cell_type": "code",
   "execution_count": 128,
   "metadata": {},
   "outputs": [
    {
     "name": "stdout",
     "output_type": "stream",
     "text": [
      "GridSearchCV 최적 하이퍼 파라미터 : {'max_depth': 3, 'min_samples_leaf': 5, 'min_samples_split': 2}\n",
      "GridSearchCV 최고 정확도 :0.7992\n"
     ]
    }
   ],
   "source": [
    "from sklearn.model_selection import GridSearchCV\n",
    "\n",
    "parameters={'max_depth':[2,3,5,10],'min_samples_split':[2,3,5],'min_samples_leaf':[1,5,8]}\n",
    "grid_dclf= GridSearchCV(dt_clf,param_grid=parameters, scoring='accuracy',cv=5)\n",
    "grid_dclf.fit(X_train,y_train)\n",
    "print('GridSearchCV 최적 하이퍼 파라미터 :',grid_dclf.best_params_)\n",
    "print('GridSearchCV 최고 정확도 :{0:.4f}'.format(grid_dclf.best_score_))\n"
   ]
  },
  {
   "cell_type": "code",
   "execution_count": 127,
   "metadata": {},
   "outputs": [
    {
     "name": "stdout",
     "output_type": "stream",
     "text": [
      "테스트 세트에서의 DecisionTreeClassifier 정확도: 0.8715\n"
     ]
    }
   ],
   "source": [
    "best_dclf =grid_dclf.best_estimator_\n",
    "\n",
    "dpredictions=best_dclf.predict(X_test)\n",
    "accuracy=accuracy_score(y_test,dpredictions)\n",
    "print('테스트 세트에서의 DecisionTreeClassifier 정확도: {0:.4f}'.format(accuracy))"
   ]
  },
  {
   "cell_type": "code",
   "execution_count": 129,
   "metadata": {},
   "outputs": [],
   "source": [
    "from sklearn.datasets import load_digits\n",
    "from sklearn.model_selection import train_test_split\n",
    "from sklearn.base import BaseEstimator\n",
    "from sklearn.metrics import accuracy_score\n",
    "import numpy as np\n",
    "import pandas as pd\n",
    "\n",
    "class MyFakeClassifier(BaseEstimator):\n",
    "    def fit(self,X,y):\n",
    "        pass\n",
    "    \n",
    "    # 입력값으로 들어오는 X 데이터 셋의 크기만큼 모두 0값으로 만들어서 반환\n",
    "    def predict(self,X):\n",
    "        return np.zeros( (len(X),1) , dtype=bool)\n",
    "\n",
    "# 사이킷런의 내장 데이터 셋인 load_digits( )를 이용하여 MNIST 데이터 로딩\n",
    "digits = load_digits()\n",
    "\n",
    "# digits번호가 7번이면 True이고 이를 astype(int)로 1로 변환, 7번이 아니면 False이고 0으로 변환. \n",
    "y = (digits.target == 7).astype(int)\n",
    "X_train, X_test, y_train, y_test = train_test_split( digits.data, y, random_state=11)"
   ]
  },
  {
   "cell_type": "code",
   "execution_count": 130,
   "metadata": {},
   "outputs": [
    {
     "name": "stdout",
     "output_type": "stream",
     "text": [
      "레이블 테스트 세트 크기 : (450,)\n",
      "테스트 세트 레이블 0 과 1의 분포도\n",
      "0    405\n",
      "1     45\n",
      "dtype: int64\n",
      "모든 예측을 0으로 하여도 정확도는:0.900\n"
     ]
    }
   ],
   "source": [
    "# 불균형한 레이블 데이터 분포도 확인. \n",
    "print('레이블 테스트 세트 크기 :', y_test.shape)\n",
    "print('테스트 세트 레이블 0 과 1의 분포도')\n",
    "print(pd.Series(y_test).value_counts())\n",
    "\n",
    "# Dummy Classifier로 학습/예측/정확도 평가\n",
    "fakeclf = MyFakeClassifier()\n",
    "fakeclf.fit(X_train , y_train)\n",
    "fakepred = fakeclf.predict(X_test)\n",
    "print('모든 예측을 0으로 하여도 정확도는:{:.3f}'.format(accuracy_score(y_test , fakepred)))"
   ]
  },
  {
   "cell_type": "code",
   "execution_count": 131,
   "metadata": {},
   "outputs": [
    {
     "data": {
      "text/plain": [
       "array([[405,   0],\n",
       "       [ 45,   0]], dtype=int64)"
      ]
     },
     "execution_count": 131,
     "metadata": {},
     "output_type": "execute_result"
    }
   ],
   "source": [
    "from sklearn.metrics import confusion_matrix\n",
    "\n",
    "# 앞절의 예측 결과인 fakepred와 실제 결과인 y_test의 Confusion Matrix출력\n",
    "confusion_matrix(y_test , fakepred)"
   ]
  },
  {
   "cell_type": "code",
   "execution_count": 137,
   "metadata": {},
   "outputs": [],
   "source": [
    "from sklearn.metrics import accuracy_score, precision_score , recall_score , confusion_matrix\n",
    "\n",
    "def get_clf_eval(y_test , pred):\n",
    "    confusion = confusion_matrix( y_test, pred)\n",
    "    accuracy = accuracy_score(y_test , pred)\n",
    "    precision = precision_score(y_test , pred)\n",
    "    recall = recall_score(y_test , pred)\n",
    "    print('오차 행렬')\n",
    "    print(confusion)\n",
    "    print('정확도: {0:.4f}, 정밀도: {1:.4f}, 재현율: {2:.4f}'.format(accuracy , precision ,recall))"
   ]
  },
  {
   "cell_type": "code",
   "execution_count": 138,
   "metadata": {},
   "outputs": [
    {
     "name": "stdout",
     "output_type": "stream",
     "text": [
      "오차 행렬\n",
      "[[104  14]\n",
      " [ 13  48]]\n",
      "정확도: 0.8492, 정밀도: 0.7742, 재현율: 0.7869\n"
     ]
    },
    {
     "name": "stderr",
     "output_type": "stream",
     "text": [
      "C:\\Users\\jangd\\AppData\\Local\\Programs\\Python\\Python310\\lib\\site-packages\\sklearn\\linear_model\\_logistic.py:814: ConvergenceWarning: lbfgs failed to converge (status=1):\n",
      "STOP: TOTAL NO. of ITERATIONS REACHED LIMIT.\n",
      "\n",
      "Increase the number of iterations (max_iter) or scale the data as shown in:\n",
      "    https://scikit-learn.org/stable/modules/preprocessing.html\n",
      "Please also refer to the documentation for alternative solver options:\n",
      "    https://scikit-learn.org/stable/modules/linear_model.html#logistic-regression\n",
      "  n_iter_i = _check_optimize_result(\n"
     ]
    }
   ],
   "source": [
    "import numpy as np\n",
    "import pandas as pd\n",
    "\n",
    "from sklearn.model_selection import train_test_split \n",
    "from sklearn.linear_model import LogisticRegression\n",
    "\n",
    "# 원본 데이터를 재로딩, 데이터 가공, 학습데이터/테스트 데이터 분할. \n",
    "titanic_df = pd.read_csv('./data_sets/titanic_train.csv')\n",
    "y_titanic_df = titanic_df['Survived']\n",
    "X_titanic_df= titanic_df.drop('Survived', axis=1)\n",
    "X_titanic_df = transform_features(X_titanic_df)\n",
    "\n",
    "X_train, X_test, y_train, y_test = train_test_split(X_titanic_df, y_titanic_df, \\\n",
    "                                                    test_size=0.20, random_state=11)\n",
    "\n",
    "lr_clf = LogisticRegression()\n",
    "\n",
    "lr_clf.fit(X_train , y_train)\n",
    "pred = lr_clf.predict(X_test)\n",
    "get_clf_eval(y_test , pred)\n",
    "\n",
    "\n",
    "#F1스코어가 높을때는 애매해서 그런거니깐 F1스코어를 통해서 구함\n",
    "#F1스코어가 낮을 때는 역으로 벡테스팅 해봐야함 조정해주거나 다시 threshold기준을 다른 알고리즘에 적용"
   ]
  },
  {
   "cell_type": "code",
   "execution_count": 148,
   "metadata": {},
   "outputs": [
    {
     "name": "stdout",
     "output_type": "stream",
     "text": [
      "pred_proba()결과 Shape: (179, 2)\n",
      "pred_proba array에서 앞 3개만 샘플로 추출 \n",
      ": [[0.46175211 0.53824789]\n",
      " [0.87863924 0.12136076]\n",
      " [0.87717092 0.12282908]]\n",
      "두개의 class 중에서 더 큰 확률을 클래스 값으로 예측 \n",
      " [[0.46175211 0.53824789 1.        ]\n",
      " [0.87863924 0.12136076 0.        ]\n",
      " [0.87717092 0.12282908 0.        ]]\n"
     ]
    }
   ],
   "source": [
    "pred_proba=lr_clf.predict_proba(X_test)\n",
    "pred=lr_clf.predict(X_test)\n",
    "\n",
    "print('pred_proba()결과 Shape: {0}'.format(pred_proba.shape))\n",
    "print('pred_proba array에서 앞 3개만 샘플로 추출 \\n:', pred_proba[:3])\n",
    "\n",
    "pred_proba_result =  np.concatenate([pred_proba,pred.reshape(-1,1)],axis=1)\n",
    "print('두개의 class 중에서 더 큰 확률을 클래스 값으로 예측 \\n', pred_proba_result[:3])"
   ]
  },
  {
   "cell_type": "code",
   "execution_count": 156,
   "metadata": {},
   "outputs": [
    {
     "name": "stdout",
     "output_type": "stream",
     "text": [
      "[[0. 0. 1.]\n",
      " [1. 0. 0.]\n",
      " [0. 0. 1.]]\n"
     ]
    }
   ],
   "source": [
    "#ROC곡선\n",
    "from sklearn.preprocessing import Binarizer\n",
    "X=[[1,-1,2],\n",
    "    [2,0,0],\n",
    "    [0,1.1,1.2]]\n",
    "binarizer= Binarizer(threshold=1.1)\n",
    "print(binarizer.fit_transform(X))\n"
   ]
  },
  {
   "cell_type": "code",
   "execution_count": 284,
   "metadata": {},
   "outputs": [
    {
     "name": "stdout",
     "output_type": "stream",
     "text": [
      "오차 행렬\n",
      "정확도:0.8492, 정밀도:0.7742,재현율 :0.7869,F1:0.7805\n"
     ]
    }
   ],
   "source": [
    "from sklearn.preprocessing import Binarizer\n",
    "custom_threshold=0.5\n",
    "pred_proba_1=pred_proba[:,1].reshape(-1,1)\n",
    "\n",
    "binarizer=Binarizer(threshold=custom_threshold).fit(pred_proba_1)\n",
    "custom_predict=binarizer.transform(pred_proba_1)\n",
    "\n",
    "get_clf_eval(y_test,custom_predict)"
   ]
  },
  {
   "cell_type": "code",
   "execution_count": 159,
   "metadata": {},
   "outputs": [
    {
     "name": "stdout",
     "output_type": "stream",
     "text": [
      "오차 행렬\n",
      "[[98 20]\n",
      " [10 51]]\n",
      "정확도: 0.8324, 정밀도: 0.7183, 재현율: 0.8361\n"
     ]
    }
   ],
   "source": [
    "custom_threshold=0.4\n",
    "pred_proba_1 = pred_proba[:,1].reshape(-1,1)\n",
    "binarizer=Binarizer(threshold=custom_threshold).fit(pred_proba_1)\n",
    "custom_predict=binarizer.transform(pred_proba_1)\n",
    "\n",
    "get_clf_eval(y_test,custom_predict)"
   ]
  },
  {
   "cell_type": "code",
   "execution_count": 180,
   "metadata": {},
   "outputs": [
    {
     "name": "stdout",
     "output_type": "stream",
     "text": [
      "임계값: 0.4\n",
      "오차 행렬\n",
      "[[98 20]\n",
      " [10 51]]\n",
      "정확도: 0.8324, 정밀도: 0.7183, 재현율: 0.8361\n",
      "임계값: 0.45\n",
      "오차 행렬\n",
      "[[103  15]\n",
      " [ 12  49]]\n",
      "정확도: 0.8492, 정밀도: 0.7656, 재현율: 0.8033\n",
      "임계값: 0.5\n",
      "오차 행렬\n",
      "[[104  14]\n",
      " [ 13  48]]\n",
      "정확도: 0.8492, 정밀도: 0.7742, 재현율: 0.7869\n",
      "임계값: 0.55\n",
      "오차 행렬\n",
      "[[109   9]\n",
      " [ 15  46]]\n",
      "정확도: 0.8659, 정밀도: 0.8364, 재현율: 0.7541\n",
      "임계값: 0.6\n",
      "오차 행렬\n",
      "[[112   6]\n",
      " [ 16  45]]\n",
      "정확도: 0.8771, 정밀도: 0.8824, 재현율: 0.7377\n"
     ]
    }
   ],
   "source": [
    "thresholds= [0.4,0.45,0.50,0.55,0.60]\n",
    "\n",
    "def get_eval_by_threshold(y_test,pred_proba_c1,thresholds):\n",
    "    for custom_threshold in thresholds:\n",
    "        binarizer=Binarizer(threshold=custom_threshold).fit(pred_proba_c1)\n",
    "        custom_predict =binarizer.transform(pred_proba_c1)\n",
    "        print('임계값:', custom_threshold)\n",
    "        get_clf_eval(y_test,custom_predict)\n",
    "        \n",
    "get_eval_by_threshold(y_test,pred_proba[:,1].reshape(-1,1),thresholds)"
   ]
  },
  {
   "cell_type": "code",
   "execution_count": 260,
   "metadata": {},
   "outputs": [],
   "source": [
    "import matplotlib.pyplot as plt\n",
    "import matplotlib.ticker as ticker\n",
    "from sklearn.metrics import precision_recall_curve\n",
    "%matplotlib inline\n"
   ]
  },
  {
   "cell_type": "code",
   "execution_count": 262,
   "metadata": {},
   "outputs": [],
   "source": [
    "from sklearn.metrics import precision_recall_curve"
   ]
  },
  {
   "cell_type": "code",
   "execution_count": 263,
   "metadata": {},
   "outputs": [],
   "source": [
    "pred_proba_class1=lr_clf.predict_proba(X_test)[:,1]"
   ]
  },
  {
   "cell_type": "code",
   "execution_count": 264,
   "metadata": {},
   "outputs": [
    {
     "name": "stdout",
     "output_type": "stream",
     "text": [
      "반환된 분류 결정 임곗값 배열의  Shape: (143,)\n",
      "반환된 precisions 배열의 Shape: (144,)\n",
      "반환된 recalls 배열의 Shape: (144,)\n",
      "thresholds 5 sample: [0.10394781 0.10395007 0.10397544 0.10773598 0.10892335]\n",
      "precisions 5 sample: [0.38853503 0.38461538 0.38709677 0.38961039 0.38562092]\n",
      "recalls 5 sample: [1.         0.98360656 0.98360656 0.98360656 0.96721311]\n"
     ]
    }
   ],
   "source": [
    "precisions,recalls,thresholds=precision_recall_curve(y_test,pred_proba_class1)\n",
    "print('반환된 분류 결정 임곗값 배열의  Shape:' ,thresholds.shape)\n",
    "print('반환된 precisions 배열의 Shape:' ,precisions.shape)\n",
    "print('반환된 recalls 배열의 Shape:' ,recalls.shape)\n",
    "\n",
    "print('thresholds 5 sample:' ,thresholds[:5])\n",
    "print('precisions 5 sample:' ,precision[:5])\n",
    "print('recalls 5 sample:' ,recalls[:5])"
   ]
  },
  {
   "cell_type": "code",
   "execution_count": 265,
   "metadata": {},
   "outputs": [
    {
     "name": "stdout",
     "output_type": "stream",
     "text": [
      "샘플 추출을 위한 임계값 배열의 index 10개 [  0  15  30  45  60  75  90 105 120 135]\n",
      "샘플용 10개의 임곗값: [0.1  0.12 0.14 0.19 0.28 0.4  0.56 0.67 0.82 0.95]\n"
     ]
    }
   ],
   "source": [
    "thr_index=np.arange(0,thresholds.shape[0],15)\n",
    "\n",
    "print('샘플 추출을 위한 임계값 배열의 index 10개',thr_index)\n",
    "print('샘플용 10개의 임곗값:' ,np.round(thresholds[thr_index],2))"
   ]
  },
  {
   "cell_type": "code",
   "execution_count": 266,
   "metadata": {},
   "outputs": [
    {
     "name": "stdout",
     "output_type": "stream",
     "text": [
      "샘플의 임계값별 정밀도: [0.389 0.44  0.466 0.539 0.647 0.729 0.836 0.949 0.958 1.   ]\n",
      "샘플 임계값별 재현율 : [1.    0.967 0.902 0.902 0.902 0.836 0.754 0.607 0.377 0.148]\n"
     ]
    }
   ],
   "source": [
    "print('샘플의 임계값별 정밀도:' , np.round(precisions[thr_index],3))\n",
    "print('샘플 임계값별 재현율 :' , np.round(recalls[thr_index],3))"
   ]
  },
  {
   "cell_type": "code",
   "execution_count": 267,
   "metadata": {},
   "outputs": [],
   "source": [
    "import matplotlib.pyplot as plt\n",
    "import matplotlib.ticker as ticker\n",
    "%matplotlib inline\n"
   ]
  },
  {
   "cell_type": "code",
   "execution_count": 268,
   "metadata": {},
   "outputs": [],
   "source": []
  },
  {
   "cell_type": "code",
   "execution_count": 270,
   "metadata": {},
   "outputs": [
    {
     "data": {
      "image/png": "[encoded data removed]",
      "text/plain": [
       "<Figure size 576x432 with 1 Axes>"
      ]
     },
     "metadata": {
      "needs_background": "light"
     },
     "output_type": "display_data"
    }
   ],
   "source": [
    "def precision_recall_curve_plot(y_test, pred_proba_c1):\n",
    "    precisions,recalls,thresholds=precision_recall_curve(y_test,pred_proba_c1)\n",
    "    \n",
    "    plt.figure(figsize=(8,6))\n",
    "    threshold_boundary = thresholds.shape[0]\n",
    "    plt.plot(thresholds,precisions[0:threshold_boundary],linestyle='--',label='precision')\n",
    "    plt.plot(thresholds,recalls[0:threshold_boundary],label='recall')\n",
    "    \n",
    "    start,end=plt.xlim()\n",
    "    plt.xticks(np.round(np.arange(start,end,0.1),2))\n",
    "    \n",
    "    plt.xlabel('Treshold value'); plt.ylabel('Precision and Recall value')\n",
    "    plt.legend(); plt.grid()\n",
    "    plt.show()\n",
    "    \n",
    "precision_recall_curve_plot(y_test,lr_clf.predict_proba(X_test)[:,1])"
   ]
  },
  {
   "cell_type": "code",
   "execution_count": 271,
   "metadata": {},
   "outputs": [
    {
     "name": "stdout",
     "output_type": "stream",
     "text": [
      "F1 스코어:0.7805\n"
     ]
    }
   ],
   "source": [
    "from sklearn.metrics import f1_score\n",
    "f1=f1_score(y_test,pred)\n",
    "print('F1 스코어:{0:.4f}'.format(f1))"
   ]
  },
  {
   "cell_type": "code",
   "execution_count": 273,
   "metadata": {},
   "outputs": [],
   "source": [
    "def get_clf_eval(y_test,pred):\n",
    "    confusion=confusion_matrix(y_test,pred)\n",
    "    accuracy=accuracy_score(y_test,pred)\n",
    "    precision=precision_score(y_test,pred)\n",
    "    recall=recall_score(y_test,pred)\n",
    "    f1=f1_score(y_test,pred)\n",
    "    print('오차 행렬')\n",
    "    print('정확도:{0:.4f}, 정밀도:{1:.4f},재현율 :{2:.4f},F1:{3:.4f}'.format(accuracy,precision,recall,f1))"
   ]
  },
  {
   "cell_type": "code",
   "execution_count": 274,
   "metadata": {},
   "outputs": [
    {
     "name": "stdout",
     "output_type": "stream",
     "text": [
      "임계값: 0.10394781247094094\n",
      "오차 행렬\n",
      "정확도:0.4581, 정밀도:0.3846,재현율 :0.9836,F1:0.5530\n",
      "임계값: 0.1039500735387871\n",
      "오차 행렬\n",
      "정확도:0.4637, 정밀도:0.3871,재현율 :0.9836,F1:0.5556\n",
      "임계값: 0.10397544287370937\n",
      "오차 행렬\n",
      "정확도:0.4693, 정밀도:0.3896,재현율 :0.9836,F1:0.5581\n",
      "임계값: 0.10773597984625961\n",
      "오차 행렬\n",
      "정확도:0.4637, 정밀도:0.3856,재현율 :0.9672,F1:0.5514\n",
      "임계값: 0.10892334612826184\n",
      "오차 행렬\n",
      "정확도:0.4693, 정밀도:0.3882,재현율 :0.9672,F1:0.5540\n",
      "임계값: 0.1116122799394845\n",
      "오차 행렬\n",
      "정확도:0.4804, 정밀도:0.3933,재현율 :0.9672,F1:0.5592\n",
      "임계값: 0.11164965170030185\n",
      "오차 행렬\n",
      "정확도:0.4916, 정밀도:0.3986,재현율 :0.9672,F1:0.5646\n",
      "임계값: 0.1116585767086029\n",
      "오차 행렬\n",
      "정확도:0.5251, 정밀도:0.4155,재현율 :0.9672,F1:0.5813\n",
      "임계값: 0.11203245812489288\n",
      "오차 행렬\n",
      "정확도:0.5363, 정밀도:0.4214,재현율 :0.9672,F1:0.5871\n",
      "임계값: 0.11206729335055673\n",
      "오차 행렬\n",
      "정확도:0.5419, 정밀도:0.4245,재현율 :0.9672,F1:0.5900\n",
      "임계값: 0.11623889817807007\n",
      "오차 행렬\n",
      "정확도:0.5475, 정밀도:0.4275,재현율 :0.9672,F1:0.5930\n",
      "임계값: 0.11701687213307188\n",
      "오차 행렬\n",
      "정확도:0.5531, 정밀도:0.4307,재현율 :0.9672,F1:0.5960\n",
      "임계값: 0.11730706431930757\n",
      "오차 행렬\n",
      "정확도:0.5587, 정밀도:0.4338,재현율 :0.9672,F1:0.5990\n",
      "임계값: 0.1177423330944338\n",
      "오차 행렬\n",
      "정확도:0.5642, 정밀도:0.4370,재현율 :0.9672,F1:0.6020\n",
      "임계값: 0.11803438008669985\n",
      "오차 행렬\n",
      "정확도:0.5698, 정밀도:0.4403,재현율 :0.9672,F1:0.6051\n",
      "임계값: 0.12136075909476471\n",
      "오차 행렬\n",
      "정확도:0.5642, 정밀도:0.4361,재현율 :0.9508,F1:0.5979\n",
      "임계값: 0.12277407964405242\n",
      "오차 행렬\n",
      "정확도:0.5698, 정밀도:0.4394,재현율 :0.9508,F1:0.6010\n",
      "임계값: 0.12282908149098458\n",
      "오차 행렬\n",
      "정확도:0.5754, 정밀도:0.4427,재현율 :0.9508,F1:0.6042\n",
      "임계값: 0.12283013144656423\n",
      "오차 행렬\n",
      "정확도:0.5754, 정밀도:0.4419,재현율 :0.9344,F1:0.6000\n",
      "임계값: 0.12283511098171947\n",
      "오차 행렬\n",
      "정확도:0.5810, 정밀도:0.4453,재현율 :0.9344,F1:0.6032\n",
      "임계값: 0.12433990478272715\n",
      "오차 행렬\n",
      "정확도:0.5866, 정밀도:0.4488,재현율 :0.9344,F1:0.6064\n",
      "임계값: 0.12502264110261851\n",
      "오차 행렬\n",
      "정확도:0.5922, 정밀도:0.4524,재현율 :0.9344,F1:0.6096\n",
      "임계값: 0.1254760637043445\n",
      "오차 행렬\n",
      "정확도:0.5866, 정밀도:0.4480,재현율 :0.9180,F1:0.6022\n",
      "임계값: 0.12677781170101624\n",
      "오차 행렬\n",
      "정확도:0.5922, 정밀도:0.4516,재현율 :0.9180,F1:0.6054\n",
      "임계값: 0.12841466299825421\n",
      "오차 행렬\n",
      "정확도:0.5866, 정밀도:0.4472,재현율 :0.9016,F1:0.5978\n",
      "임계값: 0.1289167087427607\n",
      "오차 행렬\n",
      "정확도:0.5922, 정밀도:0.4508,재현율 :0.9016,F1:0.6011\n",
      "임계값: 0.13068135843078713\n",
      "오차 행렬\n",
      "정확도:0.5978, 정밀도:0.4545,재현율 :0.9016,F1:0.6044\n",
      "임계값: 0.13283413435874622\n",
      "오차 행렬\n",
      "정확도:0.6034, 정밀도:0.4583,재현율 :0.9016,F1:0.6077\n",
      "임계값: 0.13299890253516436\n",
      "오차 행렬\n",
      "정확도:0.6089, 정밀도:0.4622,재현율 :0.9016,F1:0.6111\n",
      "임계값: 0.13310087953514804\n",
      "오차 행렬\n",
      "정확도:0.6145, 정밀도:0.4661,재현율 :0.9016,F1:0.6145\n",
      "임계값: 0.14030801623354183\n",
      "오차 행렬\n",
      "정확도:0.6201, 정밀도:0.4701,재현율 :0.9016,F1:0.6180\n",
      "임계값: 0.14106496288240886\n",
      "오차 행렬\n",
      "정확도:0.6257, 정밀도:0.4741,재현율 :0.9016,F1:0.6215\n",
      "임계값: 0.14111239810883036\n",
      "오차 행렬\n",
      "정확도:0.6313, 정밀도:0.4783,재현율 :0.9016,F1:0.6250\n",
      "임계값: 0.1411194706914703\n",
      "오차 행렬\n",
      "정확도:0.6369, 정밀도:0.4825,재현율 :0.9016,F1:0.6286\n",
      "임계값: 0.14471027388727706\n",
      "오차 행렬\n",
      "정확도:0.6425, 정밀도:0.4867,재현율 :0.9016,F1:0.6322\n",
      "임계값: 0.14543005594453923\n",
      "오차 행렬\n",
      "정확도:0.6480, 정밀도:0.4911,재현율 :0.9016,F1:0.6358\n",
      "임계값: 0.14806858532749706\n",
      "오차 행렬\n",
      "정확도:0.6592, 정밀도:0.5000,재현율 :0.9016,F1:0.6433\n",
      "임계값: 0.1480688944884622\n",
      "오차 행렬\n",
      "정확도:0.6648, 정밀도:0.5046,재현율 :0.9016,F1:0.6471\n",
      "임계값: 0.14982642099272814\n",
      "오차 행렬\n",
      "정확도:0.6704, 정밀도:0.5093,재현율 :0.9016,F1:0.6509\n",
      "임계값: 0.1534114580724103\n",
      "오차 행렬\n",
      "정확도:0.6760, 정밀도:0.5140,재현율 :0.9016,F1:0.6548\n",
      "임계값: 0.15425585520944096\n",
      "오차 행렬\n",
      "정확도:0.6816, 정밀도:0.5189,재현율 :0.9016,F1:0.6587\n",
      "임계값: 0.16814008851924053\n",
      "오차 행렬\n",
      "정확도:0.6872, 정밀도:0.5238,재현율 :0.9016,F1:0.6627\n",
      "임계값: 0.16850646186729185\n",
      "오차 행렬\n",
      "정확도:0.6927, 정밀도:0.5288,재현율 :0.9016,F1:0.6667\n",
      "임계값: 0.18363793316255778\n",
      "오차 행렬\n",
      "정확도:0.6983, 정밀도:0.5340,재현율 :0.9016,F1:0.6707\n",
      "임계값: 0.1851480538330184\n",
      "오차 행렬\n",
      "정확도:0.7039, 정밀도:0.5392,재현율 :0.9016,F1:0.6748\n",
      "임계값: 0.18622580260552898\n",
      "오차 행렬\n",
      "정확도:0.7095, 정밀도:0.5446,재현율 :0.9016,F1:0.6790\n",
      "임계값: 0.1969652788892622\n",
      "오차 행렬\n",
      "정확도:0.7151, 정밀도:0.5500,재현율 :0.9016,F1:0.6832\n",
      "임계값: 0.19836923714280638\n",
      "오차 행렬\n",
      "정확도:0.7207, 정밀도:0.5556,재현율 :0.9016,F1:0.6875\n",
      "임계값: 0.1986013222133357\n",
      "오차 행렬\n",
      "정확도:0.7263, 정밀도:0.5612,재현율 :0.9016,F1:0.6918\n",
      "임계값: 0.2170922149044641\n",
      "오차 행렬\n",
      "정확도:0.7318, 정밀도:0.5670,재현율 :0.9016,F1:0.6962\n",
      "임계값: 0.22627227641405137\n",
      "오차 행렬\n",
      "정확도:0.7374, 정밀도:0.5729,재현율 :0.9016,F1:0.7006\n",
      "임계값: 0.2322270044125789\n",
      "오차 행렬\n",
      "정확도:0.7430, 정밀도:0.5789,재현율 :0.9016,F1:0.7051\n",
      "임계값: 0.23361605234078398\n",
      "오차 행렬\n",
      "정확도:0.7486, 정밀도:0.5851,재현율 :0.9016,F1:0.7097\n",
      "임계값: 0.2344530724067177\n",
      "오차 행렬\n",
      "정확도:0.7654, 정밀도:0.6044,재현율 :0.9016,F1:0.7237\n",
      "임계값: 0.24013691971138354\n",
      "오차 행렬\n",
      "정확도:0.7709, 정밀도:0.6111,재현율 :0.9016,F1:0.7285\n",
      "임계값: 0.2463698179039772\n",
      "오차 행렬\n",
      "정확도:0.7765, 정밀도:0.6180,재현율 :0.9016,F1:0.7333\n",
      "임계값: 0.25042400857258706\n",
      "오차 행렬\n",
      "정확도:0.7821, 정밀도:0.6250,재현율 :0.9016,F1:0.7383\n",
      "임계값: 0.26655139005888373\n",
      "오차 행렬\n",
      "정확도:0.7877, 정밀도:0.6322,재현율 :0.9016,F1:0.7432\n",
      "임계값: 0.2752097474776555\n",
      "오차 행렬\n",
      "정확도:0.7933, 정밀도:0.6395,재현율 :0.9016,F1:0.7483\n",
      "임계값: 0.2800856433375464\n",
      "오차 행렬\n",
      "정확도:0.7989, 정밀도:0.6471,재현율 :0.9016,F1:0.7534\n",
      "임계값: 0.2803798946416607\n",
      "오차 행렬\n",
      "정확도:0.8045, 정밀도:0.6548,재현율 :0.9016,F1:0.7586\n",
      "임계값: 0.30448184284320057\n",
      "오차 행렬\n",
      "정확도:0.8101, 정밀도:0.6627,재현율 :0.9016,F1:0.7639\n",
      "임계값: 0.3089280263080959\n",
      "오차 행렬\n",
      "정확도:0.8045, 정밀도:0.6585,재현율 :0.8852,F1:0.7552\n",
      "임계값: 0.30930873209145193\n",
      "오차 행렬\n",
      "정확도:0.8101, 정밀도:0.6667,재현율 :0.8852,F1:0.7606\n",
      "임계값: 0.31660413436625134\n",
      "오차 행렬\n",
      "정확도:0.8156, 정밀도:0.6750,재현율 :0.8852,F1:0.7660\n",
      "임계값: 0.32155051755225805\n",
      "오차 행렬\n",
      "정확도:0.8212, 정밀도:0.6835,재현율 :0.8852,F1:0.7714\n",
      "임계값: 0.32179157766572203\n",
      "오차 행렬\n",
      "정확도:0.8268, 정밀도:0.6923,재현율 :0.8852,F1:0.7770\n",
      "임계값: 0.34807783779813567\n",
      "오차 행렬\n",
      "정확도:0.8212, 정밀도:0.6883,재현율 :0.8689,F1:0.7681\n",
      "임계값: 0.3505043870116553\n",
      "오차 행렬\n",
      "정확도:0.8268, 정밀도:0.6974,재현율 :0.8689,F1:0.7737\n",
      "임계값: 0.3507409455014142\n",
      "오차 행렬\n",
      "정확도:0.8324, 정밀도:0.7067,재현율 :0.8689,F1:0.7794\n",
      "임계값: 0.35872276887644733\n",
      "오차 행렬\n",
      "정확도:0.8268, 정밀도:0.7027,재현율 :0.8525,F1:0.7704\n",
      "임계값: 0.3803035976058173\n",
      "오차 행렬\n",
      "정확도:0.8324, 정밀도:0.7123,재현율 :0.8525,F1:0.7761\n",
      "임계값: 0.38070653761633644\n",
      "오차 행렬\n",
      "정확도:0.8380, 정밀도:0.7222,재현율 :0.8525,F1:0.7820\n",
      "임계값: 0.39929126727385533\n",
      "오차 행렬\n",
      "정확도:0.8324, 정밀도:0.7183,재현율 :0.8361,F1:0.7727\n",
      "임계값: 0.40073604468337126\n",
      "오차 행렬\n",
      "정확도:0.8380, 정밀도:0.7286,재현율 :0.8361,F1:0.7786\n",
      "임계값: 0.40328332578005804\n",
      "오차 행렬\n",
      "정확도:0.8324, 정밀도:0.7246,재현율 :0.8197,F1:0.7692\n",
      "임계값: 0.4284783120864814\n",
      "오차 행렬\n",
      "정확도:0.8380, 정밀도:0.7353,재현율 :0.8197,F1:0.7752\n",
      "임계값: 0.43218690889542344\n",
      "오차 행렬\n",
      "정확도:0.8436, 정밀도:0.7463,재현율 :0.8197,F1:0.7813\n",
      "임계값: 0.442563856618043\n",
      "오차 행렬\n",
      "정확도:0.8492, 정밀도:0.7576,재현율 :0.8197,F1:0.7874\n",
      "임계값: 0.44421615455921437\n",
      "오차 행렬\n",
      "정확도:0.8436, 정밀도:0.7538,재현율 :0.8033,F1:0.7778\n",
      "임계값: 0.44943522041697415\n",
      "오차 행렬\n",
      "정확도:0.8492, 정밀도:0.7656,재현율 :0.8033,F1:0.7840\n",
      "임계값: 0.4537706842644333\n",
      "오차 행렬\n",
      "정확도:0.8436, 정밀도:0.7619,재현율 :0.7869,F1:0.7742\n",
      "임계값: 0.4875057186418488\n",
      "오차 행렬\n",
      "정확도:0.8492, 정밀도:0.7742,재현율 :0.7869,F1:0.7805\n",
      "임계값: 0.5017424989395519\n",
      "오차 행렬\n",
      "정확도:0.8547, 정밀도:0.7869,재현율 :0.7869,F1:0.7869\n",
      "임계값: 0.505590039901789\n",
      "오차 행렬\n",
      "정확도:0.8603, 정밀도:0.8000,재현율 :0.7869,F1:0.7934\n",
      "임계값: 0.5135994254090764\n",
      "오차 행렬\n",
      "정확도:0.8659, 정밀도:0.8136,재현율 :0.7869,F1:0.8000\n",
      "임계값: 0.5301131754211753\n",
      "오차 행렬\n",
      "정확도:0.8715, 정밀도:0.8276,재현율 :0.7869,F1:0.8067\n",
      "임계값: 0.5382478901445487\n",
      "오차 행렬\n",
      "정확도:0.8659, 정밀도:0.8246,재현율 :0.7705,F1:0.7966\n",
      "임계값: 0.5449771910228903\n",
      "오차 행렬\n",
      "정확도:0.8715, 정밀도:0.8393,재현율 :0.7705,F1:0.8034\n",
      "임계값: 0.5455487101961236\n",
      "오차 행렬\n",
      "정확도:0.8659, 정밀도:0.8364,재현율 :0.7541,F1:0.7931\n",
      "임계값: 0.5635289576430815\n",
      "오차 행렬\n",
      "정확도:0.8715, 정밀도:0.8519,재현율 :0.7541,F1:0.8000\n",
      "임계값: 0.570047122409276\n",
      "오차 행렬\n",
      "정확도:0.8771, 정밀도:0.8679,재현율 :0.7541,F1:0.8070\n",
      "임계값: 0.593012670241543\n",
      "오차 행렬\n",
      "정확도:0.8827, 정밀도:0.8846,재현율 :0.7541,F1:0.8142\n",
      "임계값: 0.5943005328911354\n",
      "오차 행렬\n",
      "정확도:0.8771, 정밀도:0.8824,재현율 :0.7377,F1:0.8036\n",
      "임계값: 0.611212777910755\n",
      "오차 행렬\n",
      "정확도:0.8827, 정밀도:0.9000,재현율 :0.7377,F1:0.8108\n",
      "임계값: 0.6268382181866999\n",
      "오차 행렬\n",
      "정확도:0.8771, 정밀도:0.8980,재현율 :0.7213,F1:0.8000\n",
      "임계값: 0.6305607797836182\n",
      "오차 행렬\n",
      "정확도:0.8827, 정밀도:0.9167,재현율 :0.7213,F1:0.8073\n",
      "임계값: 0.6305772008108019\n",
      "오차 행렬\n",
      "정확도:0.8715, 정밀도:0.9130,재현율 :0.6885,F1:0.7850\n",
      "임계값: 0.6306464967399932\n",
      "오차 행렬\n",
      "정확도:0.8659, 정밀도:0.9111,재현율 :0.6721,F1:0.7736\n",
      "임계값: 0.6315813554037286\n",
      "오차 행렬\n",
      "정확도:0.8603, 정밀도:0.9091,재현율 :0.6557,F1:0.7619\n",
      "임계값: 0.6367961543297008\n",
      "오차 행렬\n",
      "정확도:0.8659, 정밀도:0.9302,재현율 :0.6557,F1:0.7692\n",
      "임계값: 0.6452204040775124\n",
      "오차 행렬\n",
      "정확도:0.8603, 정밀도:0.9286,재현율 :0.6393,F1:0.7573\n",
      "임계값: 0.6514714564684957\n",
      "오차 행렬\n",
      "정확도:0.8659, 정밀도:0.9512,재현율 :0.6393,F1:0.7647\n",
      "임계값: 0.6537860708591082\n",
      "오차 행렬\n",
      "정확도:0.8603, 정밀도:0.9500,재현율 :0.6230,F1:0.7525\n",
      "임계값: 0.6668988705087185\n",
      "오차 행렬\n",
      "정확도:0.8547, 정밀도:0.9487,재현율 :0.6066,F1:0.7400\n",
      "임계값: 0.666966922464551\n",
      "오차 행렬\n",
      "정확도:0.8492, 정밀도:0.9474,재현율 :0.5902,F1:0.7273\n",
      "임계값: 0.6677144777936057\n",
      "오차 행렬\n",
      "정확도:0.8436, 정밀도:0.9459,재현율 :0.5738,F1:0.7143\n",
      "임계값: 0.6778267786565944\n",
      "오차 행렬\n",
      "정확도:0.8380, 정밀도:0.9444,재현율 :0.5574,F1:0.7010\n",
      "임계값: 0.6905455778951921\n",
      "오차 행렬\n",
      "정확도:0.8324, 정밀도:0.9429,재현율 :0.5410,F1:0.6875\n",
      "임계값: 0.7077250582446769\n",
      "오차 행렬\n",
      "정확도:0.8268, 정밀도:0.9412,재현율 :0.5246,F1:0.6737\n",
      "임계값: 0.7252092552980873\n",
      "오차 행렬\n",
      "정확도:0.8212, 정밀도:0.9394,재현율 :0.5082,F1:0.6596\n",
      "임계값: 0.7352539065540493\n",
      "오차 행렬\n",
      "정확도:0.8156, 정밀도:0.9375,재현율 :0.4918,F1:0.6452\n",
      "임계값: 0.7484081884674505\n",
      "오차 행렬\n",
      "정확도:0.8101, 정밀도:0.9355,재현율 :0.4754,F1:0.6304\n",
      "임계값: 0.7515641949611822\n",
      "오차 행렬\n",
      "정확도:0.8156, 정밀도:0.9667,재현율 :0.4754,F1:0.6374\n",
      "임계값: 0.7777678721223761\n",
      "오차 행렬\n",
      "정확도:0.8101, 정밀도:0.9655,재현율 :0.4590,F1:0.6222\n",
      "임계값: 0.7911708786533944\n",
      "오차 행렬\n",
      "정확도:0.8045, 정밀도:0.9643,재현율 :0.4426,F1:0.6067\n",
      "임계값: 0.7928847807709212\n",
      "오차 행렬\n",
      "정확도:0.7989, 정밀도:0.9630,재현율 :0.4262,F1:0.5909\n",
      "임계값: 0.794925154967983\n",
      "오차 행렬\n",
      "정확도:0.7933, 정밀도:0.9615,재현율 :0.4098,F1:0.5747\n",
      "임계값: 0.8033303719184712\n",
      "오차 행렬\n",
      "정확도:0.7877, 정밀도:0.9600,재현율 :0.3934,F1:0.5581\n",
      "임계값: 0.8174453281819298\n",
      "오차 행렬\n",
      "정확도:0.7821, 정밀도:0.9583,재현율 :0.3770,F1:0.5412\n",
      "임계값: 0.8218459240482395\n",
      "오차 행렬\n",
      "정확도:0.7765, 정밀도:0.9565,재현율 :0.3607,F1:0.5238\n",
      "임계값: 0.8260696558367921\n",
      "오차 행렬\n",
      "정확도:0.7709, 정밀도:0.9545,재현율 :0.3443,F1:0.5060\n",
      "임계값: 0.8282050829187877\n",
      "오차 행렬\n",
      "정확도:0.7654, 정밀도:0.9524,재현율 :0.3279,F1:0.4878\n",
      "임계값: 0.835643985267794\n",
      "오차 행렬\n",
      "정확도:0.7598, 정밀도:0.9500,재현율 :0.3115,F1:0.4691\n",
      "임계값: 0.8542927355092962\n",
      "오차 행렬\n",
      "정확도:0.7542, 정밀도:0.9474,재현율 :0.2951,F1:0.4500\n",
      "임계값: 0.8744581560756476\n",
      "오차 행렬\n",
      "정확도:0.7486, 정밀도:0.9444,재현율 :0.2787,F1:0.4304\n",
      "임계값: 0.8809424492190223\n",
      "오차 행렬\n",
      "정확도:0.7430, 정밀도:0.9412,재현율 :0.2623,F1:0.4103\n",
      "임계값: 0.884147663397007\n",
      "오차 행렬\n",
      "정확도:0.7374, 정밀도:0.9375,재현율 :0.2459,F1:0.3896\n",
      "임계값: 0.893053287243285\n",
      "오차 행렬\n",
      "정확도:0.7318, 정밀도:0.9333,재현율 :0.2295,F1:0.3684\n",
      "임계값: 0.9088947869976314\n",
      "오차 행렬\n",
      "정확도:0.7374, 정밀도:1.0000,재현율 :0.2295,F1:0.3733\n",
      "임계값: 0.9181709520812007\n",
      "오차 행렬\n",
      "정확도:0.7318, 정밀도:1.0000,재현율 :0.2131,F1:0.3514\n",
      "임계값: 0.9189115750715595\n",
      "오차 행렬\n",
      "정확도:0.7263, 정밀도:1.0000,재현율 :0.1967,F1:0.3288\n",
      "임계값: 0.9259365008668781\n",
      "오차 행렬\n",
      "정확도:0.7207, 정밀도:1.0000,재현율 :0.1803,F1:0.3056\n",
      "임계값: 0.9288357937698059\n",
      "오차 행렬\n",
      "정확도:0.7151, 정밀도:1.0000,재현율 :0.1639,F1:0.2817\n",
      "임계값: 0.9309770461049443\n",
      "오차 행렬\n",
      "정확도:0.7095, 정밀도:1.0000,재현율 :0.1475,F1:0.2571\n",
      "임계값: 0.9472531373984944\n",
      "오차 행렬\n",
      "정확도:0.7039, 정밀도:1.0000,재현율 :0.1311,F1:0.2319\n",
      "임계값: 0.9479995047424788\n",
      "오차 행렬\n",
      "정확도:0.6983, 정밀도:1.0000,재현율 :0.1148,F1:0.2059\n",
      "임계값: 0.9480312770862145\n",
      "오차 행렬\n",
      "정확도:0.6927, 정밀도:1.0000,재현율 :0.0984,F1:0.1791\n",
      "임계값: 0.948857692192813\n",
      "오차 행렬\n",
      "정확도:0.6872, 정밀도:1.0000,재현율 :0.0820,F1:0.1515\n",
      "임계값: 0.9489803635446762\n",
      "오차 행렬\n",
      "정확도:0.6816, 정밀도:1.0000,재현율 :0.0656,F1:0.1231\n",
      "임계값: 0.9504178440834873\n",
      "오차 행렬\n",
      "정확도:0.6760, 정밀도:1.0000,재현율 :0.0492,F1:0.0938\n",
      "임계값: 0.9518400078386565\n",
      "오차 행렬\n",
      "정확도:0.6704, 정밀도:1.0000,재현율 :0.0328,F1:0.0635\n",
      "임계값: 0.9650902019156496\n",
      "오차 행렬\n",
      "정확도:0.6592, 정밀도:0.0000,재현율 :0.0000,F1:0.0000\n"
     ]
    },
    {
     "name": "stderr",
     "output_type": "stream",
     "text": [
      "C:\\Users\\jangd\\AppData\\Local\\Programs\\Python\\Python310\\lib\\site-packages\\sklearn\\metrics\\_classification.py:1318: UndefinedMetricWarning: Precision is ill-defined and being set to 0.0 due to no predicted samples. Use `zero_division` parameter to control this behavior.\n",
      "  _warn_prf(average, modifier, msg_start, len(result))\n"
     ]
    }
   ],
   "source": [
    "htresholds=[0.4,0.45,0.50,0.55,0.60]\n",
    "pred_proba=lr_clf.predict_proba(X_test)\n",
    "get_eval_by_threshold(y_test,pred_proba[:,1].reshape(-1,1),thresholds)"
   ]
  },
  {
   "cell_type": "code",
   "execution_count": 275,
   "metadata": {},
   "outputs": [],
   "source": [
    "from sklearn.metrics import roc_curve\n",
    "pred_proba_class1 = lr_clf.predict_proba(X_test)[:,1]\n",
    "\n",
    "fprs,tprs,thresholds =roc_curve(y_test,pred_proba_class1)"
   ]
  },
  {
   "cell_type": "code",
   "execution_count": 277,
   "metadata": {},
   "outputs": [
    {
     "name": "stdout",
     "output_type": "stream",
     "text": [
      "샘플 추출을 위한 임곗값 배열의 index: [ 1  6 11 16 21 26 31 36 41 46 51]\n",
      "샘플 index로 추출한 임곗값: [0.97 0.65 0.63 0.56 0.45 0.4  0.35 0.15 0.13 0.11 0.11]\n"
     ]
    }
   ],
   "source": [
    "thr_index= np.arange(1,thresholds.shape[0],5)\n",
    "print('샘플 추출을 위한 임곗값 배열의 index:' ,thr_index)\n",
    "print('샘플 index로 추출한 임곗값:' ,np.round(thresholds[thr_index],2))"
   ]
  },
  {
   "cell_type": "code",
   "execution_count": 280,
   "metadata": {},
   "outputs": [
    {
     "name": "stdout",
     "output_type": "stream",
     "text": [
      "샘플 임곗값별 FPR: [0.    0.017 0.034 0.076 0.127 0.169 0.203 0.466 0.585 0.686 0.797]\n",
      "샘플 임곗값별 TPR: [0.    0.017 0.034 0.076 0.127 0.169 0.203 0.466 0.585 0.686 0.797]\n"
     ]
    }
   ],
   "source": [
    "\n",
    "print('샘플 임곗값별 FPR:' ,np.round(fprs[thr_index],3))\n",
    "print('샘플 임곗값별 TPR:',np.round(fprs[thr_index],3))"
   ]
  },
  {
   "cell_type": "code",
   "execution_count": 288,
   "metadata": {},
   "outputs": [
    {
     "data": {
      "image/png": "[encoded data removed]",
      "text/plain": [
       "<Figure size 432x288 with 1 Axes>"
      ]
     },
     "metadata": {
      "needs_background": "light"
     },
     "output_type": "display_data"
    }
   ],
   "source": [
    "def roc_curve_plot(y_test,pred_proba_c1):\n",
    "    fprs, trps, thresholds =roc_curve(y_test,pred_proba_c1)\n",
    "    \n",
    "    plt.plot(fprs,tprs,label='ROC')\n",
    "    plt.plot([0,1],[0,1],'k--',label='Random')\n",
    "    \n",
    "    start,end=plt.xlim()\n",
    "    plt.xticks(np.round(np.arange(start,end,0.1),2))\n",
    "    plt.xlim(0,1); plt.ylim(0,1)\n",
    "    plt.xlabel('FPR(1- Sensitivity)'); plt.ylabel('TPR(Recall)')\n",
    "    plt.legend()\n",
    "    plt.show()\n",
    "    \n",
    "roc_curve_plot(y_test,lr_clf.predict_proba(X_test)[:,1])"
   ]
  },
  {
   "cell_type": "code",
   "execution_count": 294,
   "metadata": {},
   "outputs": [],
   "source": [
    "from sklearn.metrics import roc_auc_score\n",
    "import numpy as np"
   ]
  },
  {
   "cell_type": "code",
   "execution_count": 295,
   "metadata": {},
   "outputs": [
    {
     "name": "stdout",
     "output_type": "stream",
     "text": [
      "ROC AUC 값:0.9024\n"
     ]
    }
   ],
   "source": [
    "pred_proba=lr_clf.predict_proba(X_test)[:,1]\n",
    "roc_score=roc_auc_score(y_test,pred_proba)\n",
    "print('ROC AUC 값:{0:.4f}'.format(roc_score))"
   ]
  },
  {
   "cell_type": "code",
   "execution_count": 1,
   "metadata": {},
   "outputs": [
    {
     "ename": "NameError",
     "evalue": "name 'Image' is not defined",
     "output_type": "error",
     "traceback": [
      "\u001b[1;31m---------------------------------------------------------------------------\u001b[0m",
      "\u001b[1;31mNameError\u001b[0m                                 Traceback (most recent call last)",
      "\u001b[1;32mc:\\apps\\ml\\titanic_.ipynb Cell 62'\u001b[0m in \u001b[0;36m<cell line: 1>\u001b[1;34m()\u001b[0m\n\u001b[1;32m----> <a href='vscode-notebook-cell:/c%3A/apps/ml/titanic_.ipynb#ch0000061?line=0'>1</a>\u001b[0m Image(\u001b[39m\"\u001b[39m\u001b[39m/picture.png\u001b[39m\u001b[39m\"\u001b[39m)\n",
      "\u001b[1;31mNameError\u001b[0m: name 'Image' is not defined"
     ]
    }
   ],
   "source": [
    "Image(\"/picture.png\")"
   ]
  },
  {
   "cell_type": "markdown",
   "metadata": {},
   "source": [
    "![alt text](picture.jpg \"picture\")"
   ]
  },
  {
   "cell_type": "markdown",
   "metadata": {},
   "source": []
  }
 ],
 "metadata": {
  "interpreter": {
   "hash": "f4ba335b1acc55db6b97d63129af6fbe6175843e0be64b2659003ca573354abf"
  },
  "kernelspec": {
   "display_name": "Python 3.10.1 64-bit",
   "language": "python",
   "name": "python3"
  },
  "language_info": {
   "codemirror_mode": {
    "name": "ipython",
    "version": 3
   },
   "file_extension": ".py",
   "mimetype": "text/x-python",
   "name": "python",
   "nbconvert_exporter": "python",
   "pygments_lexer": "ipython3",
   "version": "3.10.1"
  },
  "orig_nbformat": 4
 },
 "nbformat": 4,
 "nbformat_minor": 2
}
